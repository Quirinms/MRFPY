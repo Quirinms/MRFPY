{
 "cells": [
  {
   "cell_type": "code",
   "execution_count": 1,
   "metadata": {},
   "outputs": [],
   "source": [
    "import numpy as np\n",
    "import pandas as pd\n",
    "\n",
    "from MRFPY.forecast import onestep, multistep\n",
    "from MRFPY.modelSelection import nested_model_selection\n",
    "from MRFPY.helper import load_examples"
   ]
  },
  {
   "cell_type": "markdown",
   "metadata": {},
   "source": [
    "# One-step forecast"
   ]
  },
  {
   "cell_type": "code",
   "execution_count": 2,
   "metadata": {},
   "outputs": [
    {
     "data": {
      "text/plain": [
       "15397.435030167224"
      ]
     },
     "execution_count": 2,
     "metadata": {},
     "output_type": "execute_result"
    }
   ],
   "source": [
    "dctExamples = load_examples()\n",
    "Timeseries = dctExamples[\"ElectricLoad\"]\n",
    "UnivariateData = np.array(Timeseries.iloc[:-1,1])\n",
    "CoefficientCombination = np.array([10,10,10])\n",
    "Aggregation = np.array([2,8])\n",
    "Result = onestep(UnivariateData, CoefficientCombination, Aggregation)\n",
    "Forecast = Result[0]\n",
    "TrueValue = Timeseries.iloc[-1,1]\n",
    "AbsoluteError = abs(TrueValue-Forecast)\n",
    "AbsoluteError"
   ]
  },
  {
   "cell_type": "markdown",
   "metadata": {},
   "source": [
    "# Multi-step forecast"
   ]
  },
  {
   "cell_type": "code",
   "execution_count": 3,
   "metadata": {},
   "outputs": [
    {
     "data": {
      "text/plain": [
       "32593.666147608892"
      ]
     },
     "execution_count": 3,
     "metadata": {},
     "output_type": "execute_result"
    }
   ],
   "source": [
    "Horizon = 2\n",
    "UnivariateData = np.array(Timeseries.iloc[:-Horizon,1])\n",
    "Result = multistep(UnivariateData, Horizon, CoefficientCombination, Aggregation)\n",
    "Forecast = Result[0]\n",
    "TrueValue = np.array(Timeseries.iloc[-Horizon:,1])\n",
    "MAE = sum(abs(TrueValue-Forecast))/Horizon\n",
    "MAE"
   ]
  },
  {
   "cell_type": "markdown",
   "metadata": {},
   "source": [
    "# Nested cross validation"
   ]
  },
  {
   "cell_type": "code",
   "execution_count": 4,
   "metadata": {},
   "outputs": [],
   "source": [
    "Result = nested_model_selection(UnivariateData)\n",
    "BestCoefficients = Result[0]\n",
    "EvaluationError = Result[1]\n",
    "EvaluationForecast = Result[2]"
   ]
  },
  {
   "cell_type": "code",
   "execution_count": null,
   "metadata": {},
   "outputs": [],
   "source": []
  }
 ],
 "metadata": {
  "kernelspec": {
   "display_name": "Python 3",
   "language": "python",
   "name": "python3"
  },
  "language_info": {
   "codemirror_mode": {
    "name": "ipython",
    "version": 3
   },
   "file_extension": ".py",
   "mimetype": "text/x-python",
   "name": "python",
   "nbconvert_exporter": "python",
   "pygments_lexer": "ipython3",
   "version": "3.8.5"
  }
 },
 "nbformat": 4,
 "nbformat_minor": 4
}
