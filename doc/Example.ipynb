{
 "cells": [
  {
   "cell_type": "markdown",
   "metadata": {},
   "source": [
    "# Multiresolution Forecasting in Python\n",
    "\n",
    "* The multiresolution forecasting package can be used for one-step, multi-step, rolling forecasting origins (here: rolling window) and nested cross validation\n",
    "* The rolling forecasting origin/rolling window is a cross validation for time series\n",
    "* Use the nested cross validation to estimate the best parameters based on the past data which then can be used for forecasts\n",
    "* If unsure about parameters, try out the nested cross validation with classical methods like regression ('r') and multilayer perceptron ('mlp'). It will give you results and the best found setting for the method of choice. The best setting can be used for further forecasts, e.g. one-step and multi-step forecasts.\n",
    "* The parameter 'Aggregation' determines the number of wavelet scales to build and the number of values for aggregation at each scale\n",
    "* If uncertain about the aggregation, use a dyadic scheme: 2,4,8, ...\n",
    "* The parameter 'CoefficientCombination' states the number of coefficient per scale and is therefore depending on the parameter 'Aggregation'. Remember, that the Aggregation controls the number of wavelet scales to construct, but for the prediction scheme, the wavelet scales and the last smooth approximation of the wavelet transform is used.\n",
    "* If uncertain about the parameter 'CoefficientCombination', try out the nested model selection"
   ]
  },
  {
   "cell_type": "code",
   "execution_count": 8,
   "metadata": {},
   "outputs": [],
   "source": [
    "import numpy as np\n",
    "import pandas as pd\n",
    "\n",
    "from MRFPY.forecast import onestep, multistep\n",
    "from MRFPY.modelSelection import nested_model_selection"
   ]
  },
  {
   "cell_type": "markdown",
   "metadata": {},
   "source": [
    "# One-step forecast"
   ]
  },
  {
   "cell_type": "code",
   "execution_count": 9,
   "metadata": {},
   "outputs": [
    {
     "data": {
      "text/plain": [
       "15397.43503016606"
      ]
     },
     "execution_count": 9,
     "metadata": {},
     "output_type": "execute_result"
    }
   ],
   "source": [
    "Timeseries = pd.read_csv(\"entsoe.csv\")\n",
    "UnivariateData = np.array(Timeseries.iloc[:-1,1])\n",
    "CoefficientCombination = np.array([10,10,10])\n",
    "Aggregation = np.array([2,8])\n",
    "Result = onestep(UnivariateData, CoefficientCombination, Aggregation)\n",
    "Forecast = Result[0]\n",
    "TrueValue = Timeseries.iloc[-1,1]\n",
    "AbsoluteError = abs(TrueValue-Forecast)\n",
    "AbsoluteError"
   ]
  },
  {
   "cell_type": "markdown",
   "metadata": {},
   "source": [
    "# Multi-step forecast"
   ]
  },
  {
   "cell_type": "code",
   "execution_count": 29,
   "metadata": {},
   "outputs": [
    {
     "data": {
      "text/plain": [
       "32593.666147608892"
      ]
     },
     "execution_count": 29,
     "metadata": {},
     "output_type": "execute_result"
    }
   ],
   "source": [
    "Horizon = 2\n",
    "UnivariateData = np.array(Timeseries.iloc[:-Horizon,1])\n",
    "Result = multistep(UnivariateData, Horizon, CoefficientCombination, Aggregation)\n",
    "Forecast = Result[0]\n",
    "TrueValue = np.array(Timeseries.iloc[-Horizon:,1])\n",
    "MAE = sum(abs(TrueValue-Forecast))/Horizon\n",
    "MAE"
   ]
  },
  {
   "cell_type": "markdown",
   "metadata": {},
   "source": [
    "# Nested cross validation"
   ]
  },
  {
   "cell_type": "code",
   "execution_count": 31,
   "metadata": {},
   "outputs": [],
   "source": [
    "Result = nested_model_selection(UnivariateData)\n",
    "BestCoefficients = Result[0]\n",
    "EvaluationError = Result[1]\n",
    "EvaluationForecast = Result[2]"
   ]
  },
  {
   "cell_type": "code",
   "execution_count": null,
   "metadata": {},
   "outputs": [],
   "source": []
  }
 ],
 "metadata": {
  "kernelspec": {
   "display_name": "Python 3",
   "language": "python",
   "name": "python3"
  },
  "language_info": {
   "codemirror_mode": {
    "name": "ipython",
    "version": 3
   },
   "file_extension": ".py",
   "mimetype": "text/x-python",
   "name": "python",
   "nbconvert_exporter": "python",
   "pygments_lexer": "ipython3",
   "version": "3.8.8"
  }
 },
 "nbformat": 4,
 "nbformat_minor": 2
}
